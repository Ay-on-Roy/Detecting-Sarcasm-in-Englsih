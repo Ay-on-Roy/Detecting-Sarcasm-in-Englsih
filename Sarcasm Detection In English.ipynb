{
  "cells": [
    {
      "cell_type": "code",
      "execution_count": null,
      "metadata": {
        "colab": {
          "base_uri": "https://localhost:8080/"
        },
        "id": "YeO5_8kvb3SY",
        "outputId": "6997a3a1-be6c-4fbd-ddf5-954b209f69d9"
      },
      "outputs": [
        {
          "output_type": "stream",
          "name": "stdout",
          "text": [
            "Mounted at /content/drive\n"
          ]
        }
      ],
      "source": [
        "from google.colab import drive\n",
        "drive.mount('/content/drive')"
      ],
      "id": "YeO5_8kvb3SY"
    },
    {
      "cell_type": "code",
      "execution_count": null,
      "metadata": {
        "id": "FLUNf5JKl7Wq"
      },
      "outputs": [],
      "source": [
        "import pandas as pd\n",
        "import numpy as np\n",
        "from sklearn.metrics import f1_score, precision_score, recall_score, confusion_matrix\n",
        "from tensorflow import keras\n",
        "from keras.callbacks import ModelCheckpoint, CSVLogger, EarlyStopping\n",
        "from keras.preprocessing.text import Tokenizer\n",
        "from tensorflow.keras.preprocessing.sequence import pad_sequences\n",
        "from keras.models import Sequential\n",
        "from keras.layers import Embedding, LSTM, Dense, Dropout, SimpleRNN\n",
        "from keras.layers import Embedding, GRU, Dense, Dropout, SimpleRNN\n",
        "import seaborn as sns"
      ],
      "id": "FLUNf5JKl7Wq"
    },
    {
      "cell_type": "code",
      "execution_count": null,
      "metadata": {
        "id": "354ba01e"
      },
      "outputs": [],
      "source": [
        "url_train = '/content/drive/My Drive/440 files/train.En.csv'\n",
        "url_test = '/content/drive/My Drive/440 files/task_A_En_test.csv'\n",
        "train_dataset = pd.read_csv(url_train)\n",
        "test_dataset = pd.read_csv(url_test)"
      ],
      "id": "354ba01e"
    },
    {
      "cell_type": "code",
      "execution_count": null,
      "metadata": {
        "id": "Cb5j4NPkf1ly"
      },
      "outputs": [],
      "source": [
        "train_dataset = train_dataset[train_dataset['tweet'].notnull()]\n",
        "test_dataset = test_dataset[test_dataset['text'].notnull()]"
      ],
      "id": "Cb5j4NPkf1ly"
    },
    {
      "cell_type": "code",
      "execution_count": null,
      "metadata": {
        "id": "e8238ef9"
      },
      "outputs": [],
      "source": [
        "x_train, y_train, x_test, y_test = train_dataset['tweet'], train_dataset['sarcastic'], test_dataset['text'], test_dataset['sarcastic']"
      ],
      "id": "e8238ef9"
    },
    {
      "cell_type": "code",
      "execution_count": null,
      "metadata": {
        "id": "53c1ff1c"
      },
      "outputs": [],
      "source": [
        "# Create a Tokenizer instance\n",
        "\n",
        "tokenizer = Tokenizer(num_words=100, oov_token=\"<OOV>\")  # num_words is the maximum number of words to keep\n",
        "\n",
        "# Fit the tokenizer on the texts\n",
        "tokenizer.fit_on_texts(x_train)\n",
        "\n",
        "# Convert the texts to sequences of integers\n",
        "train_sequences = tokenizer.texts_to_sequences(x_train)\n",
        "test_sequences = tokenizer.texts_to_sequences(x_test)\n",
        "\n",
        "# Pad the sequences to a fixed length\n",
        "max_sequence_length1 = max(len(seq) for seq in train_sequences)\n",
        "max_sequence_length2 = max(len(seq) for seq in test_sequences)\n",
        "max_sequence_length = max(max_sequence_length1, max_sequence_length2)\n",
        "padded_sequences = pad_sequences(train_sequences, maxlen=max_sequence_length, padding=\"post\", truncating=\"post\")\n",
        "\n",
        "padded_sequences2 = pad_sequences(test_sequences, maxlen=max_sequence_length, padding=\"post\", truncating=\"post\")"
      ],
      "id": "53c1ff1c"
    },
    {
      "cell_type": "code",
      "execution_count": null,
      "metadata": {
        "id": "9dc77661",
        "colab": {
          "base_uri": "https://localhost:8080/"
        },
        "outputId": "db243167-fd7b-4ed6-e4c7-d8fdb6a83dcf"
      },
      "outputs": [
        {
          "output_type": "stream",
          "name": "stdout",
          "text": [
            "Epoch 1/500\n",
            "98/98 [==============================] - ETA: 0s - loss: 0.6053 - accuracy: 0.7221\n",
            "Epoch 1: val_accuracy improved from -inf to 1.00000, saving model to /content/drive/My Drive/440 files/modelStoreGRU.h5\n",
            "98/98 [==============================] - 11s 91ms/step - loss: 0.6053 - accuracy: 0.7221 - val_loss: 0.3593 - val_accuracy: 1.0000\n",
            "Epoch 2/500\n",
            "98/98 [==============================] - ETA: 0s - loss: 0.5930 - accuracy: 0.7221\n",
            "Epoch 2: val_accuracy did not improve from 1.00000\n",
            "98/98 [==============================] - 9s 92ms/step - loss: 0.5930 - accuracy: 0.7221 - val_loss: 0.3197 - val_accuracy: 1.0000\n",
            "Epoch 3/500\n",
            "98/98 [==============================] - ETA: 0s - loss: 0.5928 - accuracy: 0.7221\n",
            "Epoch 3: val_accuracy did not improve from 1.00000\n",
            "98/98 [==============================] - 10s 99ms/step - loss: 0.5928 - accuracy: 0.7221 - val_loss: 0.3133 - val_accuracy: 1.0000\n",
            "Epoch 4/500\n",
            "98/98 [==============================] - ETA: 0s - loss: 0.5927 - accuracy: 0.7221\n",
            "Epoch 4: val_accuracy did not improve from 1.00000\n",
            "98/98 [==============================] - 8s 79ms/step - loss: 0.5927 - accuracy: 0.7221 - val_loss: 0.3557 - val_accuracy: 1.0000\n",
            "Epoch 5/500\n",
            "98/98 [==============================] - ETA: 0s - loss: 0.5923 - accuracy: 0.7221\n",
            "Epoch 5: val_accuracy did not improve from 1.00000\n",
            "98/98 [==============================] - 10s 99ms/step - loss: 0.5923 - accuracy: 0.7221 - val_loss: 0.3150 - val_accuracy: 1.0000\n",
            "Epoch 6/500\n",
            "98/98 [==============================] - ETA: 0s - loss: 0.5910 - accuracy: 0.7221\n",
            "Epoch 6: val_accuracy did not improve from 1.00000\n",
            "98/98 [==============================] - 9s 88ms/step - loss: 0.5910 - accuracy: 0.7221 - val_loss: 0.3590 - val_accuracy: 1.0000\n",
            "Epoch 7/500\n",
            "98/98 [==============================] - ETA: 0s - loss: 0.5923 - accuracy: 0.7221\n",
            "Epoch 7: val_accuracy did not improve from 1.00000\n",
            "98/98 [==============================] - 11s 114ms/step - loss: 0.5923 - accuracy: 0.7221 - val_loss: 0.2999 - val_accuracy: 1.0000\n",
            "Epoch 8/500\n",
            "98/98 [==============================] - ETA: 0s - loss: 0.5911 - accuracy: 0.7221\n",
            "Epoch 8: val_accuracy did not improve from 1.00000\n",
            "98/98 [==============================] - 11s 110ms/step - loss: 0.5911 - accuracy: 0.7221 - val_loss: 0.2674 - val_accuracy: 1.0000\n",
            "Epoch 9/500\n",
            "98/98 [==============================] - ETA: 0s - loss: 0.5920 - accuracy: 0.7221\n",
            "Epoch 9: val_accuracy did not improve from 1.00000\n",
            "98/98 [==============================] - 8s 79ms/step - loss: 0.5920 - accuracy: 0.7221 - val_loss: 0.3132 - val_accuracy: 1.0000\n",
            "Epoch 10/500\n",
            "98/98 [==============================] - ETA: 0s - loss: 0.5915 - accuracy: 0.7221\n",
            "Epoch 10: val_accuracy did not improve from 1.00000\n",
            "98/98 [==============================] - 11s 109ms/step - loss: 0.5915 - accuracy: 0.7221 - val_loss: 0.3745 - val_accuracy: 1.0000\n",
            "Epoch 11/500\n",
            "98/98 [==============================] - ETA: 0s - loss: 0.5922 - accuracy: 0.7221\n",
            "Epoch 11: val_accuracy did not improve from 1.00000\n",
            "98/98 [==============================] - 10s 101ms/step - loss: 0.5922 - accuracy: 0.7221 - val_loss: 0.3231 - val_accuracy: 1.0000\n",
            "Epoch 12/500\n",
            "98/98 [==============================] - ETA: 0s - loss: 0.5917 - accuracy: 0.7221\n",
            "Epoch 12: val_accuracy did not improve from 1.00000\n",
            "98/98 [==============================] - 8s 82ms/step - loss: 0.5917 - accuracy: 0.7221 - val_loss: 0.3384 - val_accuracy: 1.0000\n",
            "Epoch 13/500\n",
            "98/98 [==============================] - ETA: 0s - loss: 0.5922 - accuracy: 0.7221\n",
            "Epoch 13: val_accuracy did not improve from 1.00000\n",
            "98/98 [==============================] - 10s 99ms/step - loss: 0.5922 - accuracy: 0.7221 - val_loss: 0.3203 - val_accuracy: 1.0000\n",
            "44/44 [==============================] - 1s 33ms/step - loss: 0.4594 - accuracy: 0.8571\n"
          ]
        }
      ],
      "source": [
        "# Load pre-trained GloVe embeddings\n",
        "glove_embeddings_index = {}\n",
        "glove = '/content/drive/My Drive/440 files/glove.6B.100d.txt'\n",
        "with open(glove, encoding='utf-8') as f:\n",
        "    for line in f:\n",
        "        values = line.split()\n",
        "        word = values[0]\n",
        "        coefs = np.asarray(values[1:], dtype='float32')\n",
        "        glove_embeddings_index[word] = coefs\n",
        "\n",
        "# Create an embedding matrix\n",
        "embedding_dim = 100\n",
        "embedding_matrix = np.zeros((len(tokenizer.word_index) + 1, embedding_dim))\n",
        "for word, i in tokenizer.word_index.items():\n",
        "    embedding_vector = glove_embeddings_index.get(word)\n",
        "    if embedding_vector is not None:\n",
        "        embedding_matrix[i] = embedding_vector\n",
        "\n",
        "# Build the GRU model with pre-trained embeddings\n",
        "model = Sequential([\n",
        "    Embedding(input_dim=len(tokenizer.word_index) + 1, output_dim=embedding_dim, weights=[embedding_matrix], input_length=max_sequence_length, trainable=False),\n",
        "    GRU(64),\n",
        "    Dense(1, activation='sigmoid')\n",
        "])\n",
        "\n",
        "# Compile the model\n",
        "model.compile(optimizer='adam', loss='binary_crossentropy', metrics=['accuracy'])\n",
        "\n",
        "# Define callbacks\n",
        "filePath = '/content/drive/My Drive/440 files/modelStoreGRU.h5'  # Specify the path for the model checkpoint\n",
        "checkpoint = ModelCheckpoint(filePath, monitor='val_accuracy', verbose=1, save_best_only=True, mode='max')\n",
        "csv_logger = CSVLogger('/content/drive/My Drive/440 files/trainingGRU.log')\n",
        "early_stopping = EarlyStopping(monitor='val_loss', patience=5)\n",
        "callbacks_list = [checkpoint, csv_logger, early_stopping]\n",
        "\n",
        "# Train the model\n",
        "model.fit(padded_sequences, y_train, epochs=500, validation_split=0.1, callbacks=callbacks_list)\n",
        "\n",
        "# Evaluate the model (replace with your test data)\n",
        "loss, accuracy = model.evaluate(padded_sequences2, y_test)"
      ],
      "id": "9dc77661"
    },
    {
      "cell_type": "code",
      "execution_count": null,
      "metadata": {
        "id": "MRVumQMXnmc3",
        "colab": {
          "base_uri": "https://localhost:8080/"
        },
        "outputId": "ce3e8934-7205-41f6-b1a6-64b7f44839c3"
      },
      "outputs": [
        {
          "output_type": "execute_result",
          "data": {
            "text/plain": [
              "85.71"
            ]
          },
          "metadata": {},
          "execution_count": 15
        }
      ],
      "source": [
        "GRU_accuracy = round(accuracy*100,2)\n",
        "GRU_accuracy"
      ],
      "id": "MRVumQMXnmc3"
    },
    {
      "cell_type": "code",
      "source": [
        "glove_embeddings_index = {}\n",
        "glove = '/content/drive/My Drive/440 files/glove.6B.100d.txt'\n",
        "with open(glove, encoding='utf-8') as f:\n",
        "    for line in f:\n",
        "        values = line.split()\n",
        "        word = values[0]\n",
        "        coefs = np.asarray(values[1:], dtype='float32')\n",
        "        glove_embeddings_index[word] = coefs\n",
        "\n",
        "# Create an embedding matrix\n",
        "embedding_dim = 100\n",
        "embedding_matrix = np.zeros((len(tokenizer.word_index) + 1, embedding_dim))\n",
        "for word, i in tokenizer.word_index.items():\n",
        "    embedding_vector = glove_embeddings_index.get(word)\n",
        "    if embedding_vector is not None:\n",
        "        embedding_matrix[i] = embedding_vector\n",
        "\n",
        "# Build the LSTM model with pre-trained embeddings\n",
        "model = Sequential([\n",
        "    Embedding(input_dim=len(tokenizer.word_index) + 1, output_dim=embedding_dim, weights=[embedding_matrix], input_length=max_sequence_length, trainable=False),\n",
        "    LSTM(64),\n",
        "    Dense(1, activation='sigmoid')\n",
        "])\n",
        "\n",
        "# Compile the model\n",
        "model.compile(optimizer='adam', loss='binary_crossentropy', metrics=['accuracy'])\n",
        "\n",
        "filePath = '/content/drive/My Drive/440 files/modelStoreLSTM.h5'  # Specify the path for the model checkpoint\n",
        "checkpoint = ModelCheckpoint(filePath, monitor='val_accuracy', verbose=1, save_best_only=True, mode='max')\n",
        "csv_logger = CSVLogger('/content/drive/My Drive/440 files/trainingLSTM.log')\n",
        "early_stopping = EarlyStopping(monitor='val_loss', patience=5)\n",
        "callbacks_list = [checkpoint, csv_logger, early_stopping]\n",
        "# Train Machine\n",
        "model.fit(padded_sequences, y_train, epochs=500, validation_split=0.1, callbacks=callbacks_list)\n",
        "# Evaluate the model\n",
        "loss, accuracy = model.evaluate(padded_sequences2, y_test)"
      ],
      "metadata": {
        "colab": {
          "base_uri": "https://localhost:8080/"
        },
        "id": "e8-bbCtD7wxm",
        "outputId": "2c2e1c9f-1e98-4dc9-ed91-cb41a68196f2"
      },
      "id": "e8-bbCtD7wxm",
      "execution_count": null,
      "outputs": [
        {
          "output_type": "stream",
          "name": "stdout",
          "text": [
            "Epoch 1/500\n",
            "98/98 [==============================] - ETA: 0s - loss: 0.6053 - accuracy: 0.7224\n",
            "Epoch 1: val_accuracy improved from -inf to 1.00000, saving model to /content/drive/My Drive/440 files/modelStoreLSTM.h5\n",
            "98/98 [==============================] - 14s 115ms/step - loss: 0.6053 - accuracy: 0.7224 - val_loss: 0.3011 - val_accuracy: 1.0000\n",
            "Epoch 2/500\n",
            "98/98 [==============================] - ETA: 0s - loss: 0.5925 - accuracy: 0.7221\n",
            "Epoch 2: val_accuracy did not improve from 1.00000\n",
            "98/98 [==============================] - 10s 98ms/step - loss: 0.5925 - accuracy: 0.7221 - val_loss: 0.3476 - val_accuracy: 1.0000\n",
            "Epoch 3/500\n",
            "98/98 [==============================] - ETA: 0s - loss: 0.5922 - accuracy: 0.7221\n",
            "Epoch 3: val_accuracy did not improve from 1.00000\n",
            "98/98 [==============================] - 8s 79ms/step - loss: 0.5922 - accuracy: 0.7221 - val_loss: 0.3619 - val_accuracy: 1.0000\n",
            "Epoch 4/500\n",
            "98/98 [==============================] - ETA: 0s - loss: 0.5924 - accuracy: 0.7221\n",
            "Epoch 4: val_accuracy did not improve from 1.00000\n",
            "98/98 [==============================] - 9s 94ms/step - loss: 0.5924 - accuracy: 0.7221 - val_loss: 0.3139 - val_accuracy: 1.0000\n",
            "Epoch 5/500\n",
            "98/98 [==============================] - ETA: 0s - loss: 0.5928 - accuracy: 0.7221\n",
            "Epoch 5: val_accuracy did not improve from 1.00000\n",
            "98/98 [==============================] - 10s 101ms/step - loss: 0.5928 - accuracy: 0.7221 - val_loss: 0.3674 - val_accuracy: 1.0000\n",
            "Epoch 6/500\n",
            "98/98 [==============================] - ETA: 0s - loss: 0.5941 - accuracy: 0.7221\n",
            "Epoch 6: val_accuracy did not improve from 1.00000\n",
            "98/98 [==============================] - 8s 80ms/step - loss: 0.5941 - accuracy: 0.7221 - val_loss: 0.3667 - val_accuracy: 1.0000\n",
            "44/44 [==============================] - 1s 24ms/step - loss: 0.4830 - accuracy: 0.8571\n"
          ]
        }
      ]
    },
    {
      "cell_type": "code",
      "source": [
        "# Task A calculate F1_sarcastic\n",
        "\n",
        "from tensorflow.keras.models import load_model\n",
        "\n",
        "# Load trained model\n",
        "model = load_model(filePath)\n",
        "\n",
        "# Get predictions using model.predict\n",
        "prediction = model.predict(padded_sequences2)\n",
        "\n",
        "# Convert probabilities to class labels\n",
        "# Here, threshold is 0.277023\n",
        "prediction = (prediction > 0.277023).astype(int)\n",
        "\n",
        "f1_sarcastic = f1_score(y_test, prediction, average = \"binary\", pos_label = 1)\n",
        "print(round(f1_sarcastic, 4))"
      ],
      "metadata": {
        "colab": {
          "base_uri": "https://localhost:8080/"
        },
        "id": "_cl_HbBu7s30",
        "outputId": "9cb9df52-0921-40e0-943f-23747daad0ae"
      },
      "id": "_cl_HbBu7s30",
      "execution_count": null,
      "outputs": [
        {
          "output_type": "stream",
          "name": "stdout",
          "text": [
            "44/44 [==============================] - 2s 24ms/step\n",
            "0.0\n"
          ]
        }
      ]
    },
    {
      "cell_type": "code",
      "source": [
        "###### TASK B ######\n",
        "\n",
        "train = '/content/drive/My Drive/440 files/train.En.csv'\n",
        "testB = '/content/drive/My Drive/440 files/task_B_En_test.csv'\n",
        "train_dataset = pd.read_csv(train)\n",
        "test_dataset = pd.read_csv(testB)\n",
        "\n",
        "train_dataset = train_dataset[train_dataset['tweet'].notnull()]\n",
        "test_dataset = test_dataset[test_dataset['text'].notnull()]"
      ],
      "metadata": {
        "id": "Uc2vkpGDFxDi"
      },
      "id": "Uc2vkpGDFxDi",
      "execution_count": null,
      "outputs": []
    },
    {
      "cell_type": "code",
      "source": [
        "x_train, y_train = train_dataset['rephrase'], pd.concat([train_dataset['sarcasm'], train_dataset['irony'], train_dataset['satire'], train_dataset['understatement'], train_dataset['overstatement'], train_dataset['rhetorical_question']], axis=1)\n",
        "x_train, y_train = x_train.dropna(), y_train.dropna()\n",
        "\n",
        "y_train_sarcasm, y_train_irony, y_train_satire, y_train_understatement, y_train_overstatement, y_train_question = y_train['sarcasm'], y_train['irony'], y_train['satire'], y_train['understatement'], y_train['overstatement'], y_train['rhetorical_question']\n",
        "\n",
        "x_test, y_test = test_dataset['text'], pd.concat([test_dataset['sarcasm'], test_dataset['irony'], test_dataset['satire'], test_dataset['understatement'],  test_dataset['overstatement'], test_dataset['rhetorical_question']], axis=1)\n",
        "x_test, y_test = x_test.dropna(), y_test.dropna()\n",
        "\n",
        "y_test_sarcasm, y_test_irony, y_test_satire, y_test_understatement, y_test_overstatement, y_test_question = y_test['sarcasm'], y_test['irony'], y_test['satire'], y_test['understatement'], y_test['overstatement'], y_test['rhetorical_question']"
      ],
      "metadata": {
        "id": "-1vKjyr8GZj6"
      },
      "id": "-1vKjyr8GZj6",
      "execution_count": null,
      "outputs": []
    },
    {
      "cell_type": "code",
      "source": [
        "# Create a Tokenizer instance\n",
        "\n",
        "tokenizer = Tokenizer(num_words=100, oov_token=\"<OOV>\")  # num_words is the maximum number of words to keep\n",
        "\n",
        "# Fit the tokenizer on the texts\n",
        "tokenizer.fit_on_texts(x_train)\n",
        "\n",
        "# Convert the texts to sequences of integers\n",
        "train_sequences = tokenizer.texts_to_sequences(x_train)\n",
        "test_sequences = tokenizer.texts_to_sequences(x_test)\n",
        "\n",
        "# Pad the sequences to a fixed length\n",
        "max_sequence_length1 = max(len(seq) for seq in train_sequences)\n",
        "max_sequence_length2 = max(len(seq) for seq in test_sequences)\n",
        "max_sequence_length = max(max_sequence_length1, max_sequence_length2)\n",
        "padded_sequences = pad_sequences(train_sequences, maxlen=max_sequence_length, padding=\"post\", truncating=\"post\")\n",
        "\n",
        "padded_sequences2 = pad_sequences(test_sequences, maxlen=max_sequence_length, padding=\"post\", truncating=\"post\")"
      ],
      "metadata": {
        "id": "96QLGA2LKFtU"
      },
      "id": "96QLGA2LKFtU",
      "execution_count": null,
      "outputs": []
    },
    {
      "cell_type": "code",
      "source": [
        "# Compile the model for sarcasm\n",
        "model.compile(optimizer='adam', loss='binary_crossentropy', metrics=['accuracy'])\n",
        "\n",
        "filePath = '/content/drive/My Drive/440 files/taskBSarcasmModelStoreLSTM.h5'  # Specify the path for the model checkpoint\n",
        "checkpoint = ModelCheckpoint(filePath, monitor='val_accuracy', verbose=1, save_best_only=True, mode='max')\n",
        "csv_logger = CSVLogger('/content/drive/My Drive/440 files/taskBSarcasmTrainingLSTM.log')\n",
        "early_stopping = EarlyStopping(monitor='val_loss', patience=5)\n",
        "callbacks_list = [checkpoint, csv_logger, early_stopping]\n",
        "\n",
        "# Train Machine\n",
        "model.fit(padded_sequences, y_train_sarcasm, epochs=500, validation_split=0.1, callbacks=callbacks_list)\n",
        "\n",
        "# Evaluate the model\n",
        "loss, accuracy = model.evaluate(padded_sequences2, y_test_sarcasm)"
      ],
      "metadata": {
        "colab": {
          "base_uri": "https://localhost:8080/"
        },
        "id": "aM79CMUPKNEz",
        "outputId": "7e317e3a-2b59-46d7-baac-fdbf22725eae"
      },
      "id": "aM79CMUPKNEz",
      "execution_count": null,
      "outputs": [
        {
          "output_type": "stream",
          "name": "stdout",
          "text": [
            "Epoch 1/500\n",
            "25/25 [==============================] - ETA: 0s - loss: 0.8125 - accuracy: 0.1795\n",
            "Epoch 1: val_accuracy improved from -inf to 0.16092, saving model to /content/drive/My Drive/440 files/taskBSarcasmModelStoreLSTM.h5\n",
            "25/25 [==============================] - 6s 106ms/step - loss: 0.8125 - accuracy: 0.1795 - val_loss: 0.7162 - val_accuracy: 0.1609\n",
            "Epoch 2/500\n",
            "25/25 [==============================] - ETA: 0s - loss: 0.6899 - accuracy: 0.5513\n",
            "Epoch 2: val_accuracy improved from 0.16092 to 0.83908, saving model to /content/drive/My Drive/440 files/taskBSarcasmModelStoreLSTM.h5\n",
            "25/25 [==============================] - 2s 84ms/step - loss: 0.6899 - accuracy: 0.5513 - val_loss: 0.6584 - val_accuracy: 0.8391\n",
            "Epoch 3/500\n",
            "25/25 [==============================] - ETA: 0s - loss: 0.5755 - accuracy: 0.8205\n",
            "Epoch 3: val_accuracy did not improve from 0.83908\n",
            "25/25 [==============================] - 2s 86ms/step - loss: 0.5755 - accuracy: 0.8205 - val_loss: 0.4419 - val_accuracy: 0.8391\n",
            "Epoch 4/500\n",
            "25/25 [==============================] - ETA: 0s - loss: 0.4719 - accuracy: 0.8205\n",
            "Epoch 4: val_accuracy did not improve from 0.83908\n",
            "25/25 [==============================] - 2s 83ms/step - loss: 0.4719 - accuracy: 0.8205 - val_loss: 0.4424 - val_accuracy: 0.8391\n",
            "Epoch 5/500\n",
            "25/25 [==============================] - ETA: 0s - loss: 0.4736 - accuracy: 0.8205\n",
            "Epoch 5: val_accuracy did not improve from 0.83908\n",
            "25/25 [==============================] - 3s 128ms/step - loss: 0.4736 - accuracy: 0.8205 - val_loss: 0.4487 - val_accuracy: 0.8391\n",
            "Epoch 6/500\n",
            "25/25 [==============================] - ETA: 0s - loss: 0.4738 - accuracy: 0.8205\n",
            "Epoch 6: val_accuracy did not improve from 0.83908\n",
            "25/25 [==============================] - 3s 117ms/step - loss: 0.4738 - accuracy: 0.8205 - val_loss: 0.4447 - val_accuracy: 0.8391\n",
            "Epoch 7/500\n",
            "25/25 [==============================] - ETA: 0s - loss: 0.4716 - accuracy: 0.8205\n",
            "Epoch 7: val_accuracy did not improve from 0.83908\n",
            "25/25 [==============================] - 2s 76ms/step - loss: 0.4716 - accuracy: 0.8205 - val_loss: 0.4425 - val_accuracy: 0.8391\n",
            "Epoch 8/500\n",
            "25/25 [==============================] - ETA: 0s - loss: 0.4734 - accuracy: 0.8205\n",
            "Epoch 8: val_accuracy did not improve from 0.83908\n",
            "25/25 [==============================] - 2s 77ms/step - loss: 0.4734 - accuracy: 0.8205 - val_loss: 0.4444 - val_accuracy: 0.8391\n",
            "44/44 [==============================] - 2s 25ms/step - loss: 1.4676 - accuracy: 0.1286\n"
          ]
        }
      ]
    },
    {
      "cell_type": "code",
      "source": [
        "# Load trained model\n",
        "filePath = '/content/drive/My Drive/440 files/taskBSarcasmModelStoreLSTM.h5'\n",
        "model = load_model(filePath)\n",
        "\n",
        "# Get predictions using model.predict\n",
        "prediction = model.predict(padded_sequences2)\n",
        "\n",
        "# Convert probabilities to class labels\n",
        "# Here, threshold is 0.77167\n",
        "prediction = (prediction > 0.77167).astype(int)\n",
        "\n",
        "f1_sarcasm = f1_score(y_test_sarcasm, prediction, average = \"binary\", pos_label = 1)\n",
        "print(\"F1-sarcasm Score:\", round(f1_sarcasm, 4))\n",
        "f1_score_sarcasm = round(f1_sarcasm, 4)\n",
        "\n",
        "cm = confusion_matrix(y_test_sarcasm, prediction)\n",
        "sns.heatmap(cm, annot=True, cmap='Pastel1_r', xticklabels=['Sarcasm' ,'Not Sarcasm'],yticklabels=['Sarcasm' ,'Not Sarcasm'])"
      ],
      "metadata": {
        "colab": {
          "base_uri": "https://localhost:8080/",
          "height": 482
        },
        "id": "QCbREVprMHmc",
        "outputId": "568c68d2-8dd7-4a49-933b-a3986eef5cfc"
      },
      "id": "QCbREVprMHmc",
      "execution_count": null,
      "outputs": [
        {
          "output_type": "stream",
          "name": "stdout",
          "text": [
            "44/44 [==============================] - 4s 64ms/step\n",
            "F1-sarcasm Score: 0.0\n"
          ]
        },
        {
          "output_type": "execute_result",
          "data": {
            "text/plain": [
              "<Axes: >"
            ]
          },
          "metadata": {},
          "execution_count": 25
        },
        {
          "output_type": "display_data",
          "data": {
            "text/plain": [
              "<Figure size 640x480 with 2 Axes>"
            ],
            "image/png": "[encoded data removed]"
          },
          "metadata": {}
        }
      ]
    },
    {
      "cell_type": "code",
      "source": [
        "# Compile the model for irony\n",
        "model.compile(optimizer='adam', loss='binary_crossentropy', metrics=['accuracy'])\n",
        "\n",
        "filePath = '/content/drive/My Drive/440 files/taskBIronyModelStoreLSTM.h5'  # Specify the path for the model checkpoint\n",
        "checkpoint = ModelCheckpoint(filePath, monitor='val_accuracy', verbose=1, save_best_only=True, mode='max')\n",
        "csv_logger = CSVLogger('/content/drive/My Drive/440 files/taskBIronyTrainingLSTM.log')\n",
        "early_stopping = EarlyStopping(monitor='val_loss', patience=5)\n",
        "callbacks_list = [checkpoint, csv_logger, early_stopping]\n",
        "\n",
        "# Train Machine\n",
        "model.fit(padded_sequences, y_train_irony, epochs=500, validation_split=0.1, callbacks=callbacks_list)\n",
        "\n",
        "# Evaluate the model\n",
        "loss, accuracy = model.evaluate(padded_sequences2, y_test_irony)"
      ],
      "metadata": {
        "colab": {
          "base_uri": "https://localhost:8080/"
        },
        "id": "h8zMSVMQQIiu",
        "outputId": "0b2d2ea7-76ab-4699-b9ab-f290db26c78f"
      },
      "id": "h8zMSVMQQIiu",
      "execution_count": null,
      "outputs": [
        {
          "output_type": "stream",
          "name": "stdout",
          "text": [
            "Epoch 1/500\n",
            "25/25 [==============================] - ETA: 0s - loss: 0.6806 - accuracy: 0.5551\n",
            "Epoch 1: val_accuracy improved from -inf to 0.83908, saving model to /content/drive/My Drive/440 files/taskBIronyModelStoreLSTM.h5\n",
            "25/25 [==============================] - 12s 227ms/step - loss: 0.6806 - accuracy: 0.5551 - val_loss: 0.5357 - val_accuracy: 0.8391\n",
            "Epoch 2/500\n",
            "25/25 [==============================] - ETA: 0s - loss: 0.4800 - accuracy: 0.8192\n",
            "Epoch 2: val_accuracy did not improve from 0.83908\n",
            "25/25 [==============================] - 4s 172ms/step - loss: 0.4800 - accuracy: 0.8192 - val_loss: 0.4430 - val_accuracy: 0.8391\n",
            "Epoch 3/500\n",
            "25/25 [==============================] - ETA: 0s - loss: 0.4736 - accuracy: 0.8192\n",
            "Epoch 3: val_accuracy did not improve from 0.83908\n",
            "25/25 [==============================] - 4s 141ms/step - loss: 0.4736 - accuracy: 0.8192 - val_loss: 0.4444 - val_accuracy: 0.8391\n",
            "Epoch 4/500\n",
            "25/25 [==============================] - ETA: 0s - loss: 0.4750 - accuracy: 0.8192\n",
            "Epoch 4: val_accuracy did not improve from 0.83908\n",
            "25/25 [==============================] - 3s 104ms/step - loss: 0.4750 - accuracy: 0.8192 - val_loss: 0.4413 - val_accuracy: 0.8391\n",
            "Epoch 5/500\n",
            "25/25 [==============================] - ETA: 0s - loss: 0.4741 - accuracy: 0.8192\n",
            "Epoch 5: val_accuracy did not improve from 0.83908\n",
            "25/25 [==============================] - 2s 77ms/step - loss: 0.4741 - accuracy: 0.8192 - val_loss: 0.4431 - val_accuracy: 0.8391\n",
            "Epoch 6/500\n",
            "25/25 [==============================] - ETA: 0s - loss: 0.4739 - accuracy: 0.8192\n",
            "Epoch 6: val_accuracy did not improve from 0.83908\n",
            "25/25 [==============================] - 2s 79ms/step - loss: 0.4739 - accuracy: 0.8192 - val_loss: 0.4414 - val_accuracy: 0.8391\n",
            "Epoch 7/500\n",
            "25/25 [==============================] - ETA: 0s - loss: 0.4735 - accuracy: 0.8192\n",
            "Epoch 7: val_accuracy did not improve from 0.83908\n",
            "25/25 [==============================] - 2s 79ms/step - loss: 0.4735 - accuracy: 0.8192 - val_loss: 0.4453 - val_accuracy: 0.8391\n",
            "Epoch 8/500\n",
            "25/25 [==============================] - ETA: 0s - loss: 0.4733 - accuracy: 0.8192\n",
            "Epoch 8: val_accuracy did not improve from 0.83908\n",
            "25/25 [==============================] - 2s 78ms/step - loss: 0.4733 - accuracy: 0.8192 - val_loss: 0.4429 - val_accuracy: 0.8391\n",
            "Epoch 9/500\n",
            "25/25 [==============================] - ETA: 0s - loss: 0.4744 - accuracy: 0.8192\n",
            "Epoch 9: val_accuracy did not improve from 0.83908\n",
            "25/25 [==============================] - 2s 98ms/step - loss: 0.4744 - accuracy: 0.8192 - val_loss: 0.4461 - val_accuracy: 0.8391\n",
            "44/44 [==============================] - 2s 38ms/step - loss: 0.2425 - accuracy: 0.9857\n"
          ]
        }
      ]
    },
    {
      "cell_type": "code",
      "source": [
        "# Load trained model\n",
        "filePath = '/content/drive/My Drive/440 files/taskBIronyModelStoreLSTM.h5'\n",
        "model = load_model(filePath)\n",
        "\n",
        "# Get predictions using model.predict\n",
        "prediction = model.predict(padded_sequences2)\n",
        "\n",
        "# Convert probabilities to class labels\n",
        "# Here, threshold is 0.432823\n",
        "prediction = (prediction > 0.432823).astype(int)\n",
        "\n",
        "f1_irony = f1_score(y_test_irony, prediction, average = \"binary\", pos_label = 1)\n",
        "print('F1-irony Score:', round(f1_irony, 4))\n",
        "f1_score_irony = round(f1_irony, 4)\n",
        "\n",
        "cm = confusion_matrix(y_test_irony, prediction)\n",
        "sns.heatmap(cm, annot=True, cmap='Pastel1_r', xticklabels=['Irony' ,'Not Irony'],yticklabels=['Irony' ,'Not Irony'])"
      ],
      "metadata": {
        "colab": {
          "base_uri": "https://localhost:8080/",
          "height": 482
        },
        "id": "FWbxdpCYQUEu",
        "outputId": "d1438ff1-281a-4c9f-9651-6370fd58957d"
      },
      "id": "FWbxdpCYQUEu",
      "execution_count": null,
      "outputs": [
        {
          "output_type": "stream",
          "name": "stdout",
          "text": [
            "44/44 [==============================] - 1s 23ms/step\n",
            "F1-irony Score: 0.0\n"
          ]
        },
        {
          "output_type": "execute_result",
          "data": {
            "text/plain": [
              "<Axes: >"
            ]
          },
          "metadata": {},
          "execution_count": 27
        },
        {
          "output_type": "display_data",
          "data": {
            "text/plain": [
              "<Figure size 640x480 with 2 Axes>"
            ],
            "image/png": "[encoded data removed]"
          },
          "metadata": {}
        }
      ]
    },
    {
      "cell_type": "code",
      "source": [
        "# Compile the model for satire\n",
        "model.compile(optimizer='adam', loss='binary_crossentropy', metrics=['accuracy'])\n",
        "\n",
        "filePath = '/content/drive/My Drive/440 files/taskBSatireModelStoreLSTM.h5'  # Specify the path for the model checkpoint\n",
        "checkpoint = ModelCheckpoint(filePath, monitor='val_accuracy', verbose=1, save_best_only=True, mode='max')\n",
        "csv_logger = CSVLogger('/content/drive/My Drive/440 files/taskBSatireTrainingLSTM.log')\n",
        "early_stopping = EarlyStopping(monitor='val_loss', patience=5)\n",
        "callbacks_list = [checkpoint, csv_logger, early_stopping]\n",
        "\n",
        "# Train Machine\n",
        "model.fit(padded_sequences, y_train_satire, epochs=500, validation_split=0.1, callbacks=callbacks_list)\n",
        "\n",
        "# Evaluate the model\n",
        "loss, accuracy = model.evaluate(padded_sequences2, y_test_satire)"
      ],
      "metadata": {
        "id": "XH6d6aLWQ2hH",
        "colab": {
          "base_uri": "https://localhost:8080/"
        },
        "outputId": "e9f479c7-f790-4b3b-e2e5-cf4550c97c0b"
      },
      "id": "XH6d6aLWQ2hH",
      "execution_count": null,
      "outputs": [
        {
          "output_type": "stream",
          "name": "stdout",
          "text": [
            "Epoch 1/500\n",
            "25/25 [==============================] - ETA: 0s - loss: 0.1863 - accuracy: 0.9692\n",
            "Epoch 1: val_accuracy improved from -inf to 0.98851, saving model to /content/drive/My Drive/440 files/taskBSatireModelStoreLSTM.h5\n",
            "25/25 [==============================] - 5s 100ms/step - loss: 0.1863 - accuracy: 0.9692 - val_loss: 0.0656 - val_accuracy: 0.9885\n",
            "Epoch 2/500\n",
            "25/25 [==============================] - ETA: 0s - loss: 0.1390 - accuracy: 0.9692\n",
            "Epoch 2: val_accuracy did not improve from 0.98851\n",
            "25/25 [==============================] - 2s 91ms/step - loss: 0.1390 - accuracy: 0.9692 - val_loss: 0.0716 - val_accuracy: 0.9885\n",
            "Epoch 3/500\n",
            "25/25 [==============================] - ETA: 0s - loss: 0.1379 - accuracy: 0.9692\n",
            "Epoch 3: val_accuracy did not improve from 0.98851\n",
            "25/25 [==============================] - 3s 135ms/step - loss: 0.1379 - accuracy: 0.9692 - val_loss: 0.0694 - val_accuracy: 0.9885\n",
            "Epoch 4/500\n",
            "25/25 [==============================] - ETA: 0s - loss: 0.1387 - accuracy: 0.9692\n",
            "Epoch 4: val_accuracy did not improve from 0.98851\n",
            "25/25 [==============================] - 2s 80ms/step - loss: 0.1387 - accuracy: 0.9692 - val_loss: 0.0688 - val_accuracy: 0.9885\n",
            "Epoch 5/500\n",
            "25/25 [==============================] - ETA: 0s - loss: 0.1388 - accuracy: 0.9692\n",
            "Epoch 5: val_accuracy did not improve from 0.98851\n",
            "25/25 [==============================] - 2s 76ms/step - loss: 0.1388 - accuracy: 0.9692 - val_loss: 0.0678 - val_accuracy: 0.9885\n",
            "Epoch 6/500\n",
            "25/25 [==============================] - ETA: 0s - loss: 0.1395 - accuracy: 0.9692\n",
            "Epoch 6: val_accuracy did not improve from 0.98851\n",
            "25/25 [==============================] - 2s 80ms/step - loss: 0.1395 - accuracy: 0.9692 - val_loss: 0.0710 - val_accuracy: 0.9885\n",
            "44/44 [==============================] - 2s 24ms/step - loss: 0.1520 - accuracy: 0.9650\n"
          ]
        }
      ]
    },
    {
      "cell_type": "code",
      "source": [
        "# Load trained model\n",
        "\n",
        "filePath = '/content/drive/My Drive/440 files/taskBSatireModelStoreLSTM.h5'\n",
        "model = load_model(filePath)\n",
        "\n",
        "# Get predictions using model.predict\n",
        "prediction = model.predict(padded_sequences2)\n",
        "\n",
        "# Convert probabilities to class labels\n",
        "# Here, threshold is 0.0151090\n",
        "prediction = (prediction > 0.0151090).astype(int)\n",
        "\n",
        "f1_satire = f1_score(y_test_satire, prediction, average = \"binary\", pos_label = 1)\n",
        "print(round(f1_satire, 4))\n",
        "f1_score_satire = round(f1_satire, 4)\n",
        "\n",
        "cm = confusion_matrix(y_test_satire, prediction)\n",
        "sns.heatmap(cm, annot=True, cmap='Pastel1_r', xticklabels=['Satire' ,'Not Satire'],yticklabels=['Satire' ,'Not Satire'])"
      ],
      "metadata": {
        "id": "QoorzbuTQ3BF",
        "colab": {
          "base_uri": "https://localhost:8080/",
          "height": 482
        },
        "outputId": "15681bc9-0f2a-48af-f799-1dd3423018cb"
      },
      "id": "QoorzbuTQ3BF",
      "execution_count": null,
      "outputs": [
        {
          "output_type": "stream",
          "name": "stdout",
          "text": [
            "44/44 [==============================] - 2s 24ms/step\n",
            "0.0676\n"
          ]
        },
        {
          "output_type": "execute_result",
          "data": {
            "text/plain": [
              "<Axes: >"
            ]
          },
          "metadata": {},
          "execution_count": 29
        },
        {
          "output_type": "display_data",
          "data": {
            "text/plain": [
              "<Figure size 640x480 with 2 Axes>"
            ],
            "image/png": "[encoded data removed]"
          },
          "metadata": {}
        }
      ]
    },
    {
      "cell_type": "code",
      "source": [
        "# Compile the model for understatement\n",
        "model.compile(optimizer='adam', loss='binary_crossentropy', metrics=['accuracy'])\n",
        "\n",
        "filePath = '/content/drive/My Drive/440 files/taskBUnderstatementModelStoreLSTM.h5'  # Specify the path for the model checkpoint\n",
        "checkpoint = ModelCheckpoint(filePath, monitor='val_accuracy', verbose=1, save_best_only=True, mode='max')\n",
        "csv_logger = CSVLogger('/content/drive/My Drive/440 files/taskBUnderstatementTrainingLSTM.log')\n",
        "early_stopping = EarlyStopping(monitor='val_loss', patience=5)\n",
        "callbacks_list = [checkpoint, csv_logger, early_stopping]\n",
        "\n",
        "# Train Machine\n",
        "model.fit(padded_sequences, y_train_understatement, epochs=500, validation_split=0.1, callbacks=callbacks_list)\n",
        "\n",
        "# Evaluate the model\n",
        "loss, accuracy = model.evaluate(padded_sequences2, y_test_understatement)"
      ],
      "metadata": {
        "id": "AxIL9abWQ5--",
        "colab": {
          "base_uri": "https://localhost:8080/"
        },
        "outputId": "356c10c6-c238-45f6-d336-61d832d53541"
      },
      "id": "AxIL9abWQ5--",
      "execution_count": null,
      "outputs": [
        {
          "output_type": "stream",
          "name": "stdout",
          "text": [
            "Epoch 1/500\n",
            "25/25 [==============================] - ETA: 0s - loss: 0.0637 - accuracy: 0.9885\n",
            "Epoch 1: val_accuracy improved from -inf to 0.98851, saving model to /content/drive/My Drive/440 files/taskBUnderstatementModelStoreLSTM.h5\n",
            "25/25 [==============================] - 7s 119ms/step - loss: 0.0637 - accuracy: 0.9885 - val_loss: 0.0628 - val_accuracy: 0.9885\n",
            "Epoch 2/500\n",
            "25/25 [==============================] - ETA: 0s - loss: 0.0642 - accuracy: 0.9885\n",
            "Epoch 2: val_accuracy did not improve from 0.98851\n",
            "25/25 [==============================] - 2s 79ms/step - loss: 0.0642 - accuracy: 0.9885 - val_loss: 0.0632 - val_accuracy: 0.9885\n",
            "Epoch 3/500\n",
            "25/25 [==============================] - ETA: 0s - loss: 0.0630 - accuracy: 0.9885\n",
            "Epoch 3: val_accuracy did not improve from 0.98851\n",
            "25/25 [==============================] - 2s 82ms/step - loss: 0.0630 - accuracy: 0.9885 - val_loss: 0.0632 - val_accuracy: 0.9885\n",
            "Epoch 4/500\n",
            "25/25 [==============================] - ETA: 0s - loss: 0.0636 - accuracy: 0.9885\n",
            "Epoch 4: val_accuracy did not improve from 0.98851\n",
            "25/25 [==============================] - 2s 77ms/step - loss: 0.0636 - accuracy: 0.9885 - val_loss: 0.0628 - val_accuracy: 0.9885\n",
            "Epoch 5/500\n",
            "25/25 [==============================] - ETA: 0s - loss: 0.0633 - accuracy: 0.9885\n",
            "Epoch 5: val_accuracy did not improve from 0.98851\n",
            "25/25 [==============================] - 2s 82ms/step - loss: 0.0633 - accuracy: 0.9885 - val_loss: 0.0628 - val_accuracy: 0.9885\n",
            "Epoch 6/500\n",
            "25/25 [==============================] - ETA: 0s - loss: 0.0649 - accuracy: 0.9885\n",
            "Epoch 6: val_accuracy did not improve from 0.98851\n",
            "25/25 [==============================] - 3s 137ms/step - loss: 0.0649 - accuracy: 0.9885 - val_loss: 0.0629 - val_accuracy: 0.9885\n",
            "44/44 [==============================] - 2s 27ms/step - loss: 0.0132 - accuracy: 0.9993\n"
          ]
        }
      ]
    },
    {
      "cell_type": "code",
      "source": [
        "filePath = '/content/drive/My Drive/440 files/taskBUnderstatementModelStoreLSTM.h5'\n",
        "model = load_model(filePath)\n",
        "\n",
        "# Get predictions using model.predict\n",
        "prediction = model.predict(padded_sequences2)\n",
        "print(prediction)\n",
        "# Convert probabilities to class labels\n",
        "# Here, threshold is 0.0082590\n",
        "prediction = (prediction > 0.0082590).astype(int)\n",
        "\n",
        "f1_understatement = f1_score(y_test_understatement, prediction, average = \"binary\", pos_label = 1)\n",
        "print(round(f1_understatement, 4))\n",
        "f1_score_understatement = round(f1_understatement, 4)\n",
        "\n",
        "cm = confusion_matrix(y_test_understatement, prediction)\n",
        "sns.heatmap(cm, annot=True, cmap='Pastel1_r', xticklabels=['Understatement' ,'Not Understatement'],yticklabels=['Understatement' ,'Not Understatement'])"
      ],
      "metadata": {
        "id": "fPs8n-EaQ6Ru",
        "colab": {
          "base_uri": "https://localhost:8080/",
          "height": 604
        },
        "outputId": "64194a79-b540-493f-cd6f-27a2c44a4009"
      },
      "id": "fPs8n-EaQ6Ru",
      "execution_count": null,
      "outputs": [
        {
          "output_type": "stream",
          "name": "stdout",
          "text": [
            "44/44 [==============================] - 2s 24ms/step\n",
            "[[0.01161761]\n",
            " [0.01161761]\n",
            " [0.01161761]\n",
            " ...\n",
            " [0.01161761]\n",
            " [0.01161761]\n",
            " [0.01161761]]\n",
            "0.0014\n"
          ]
        },
        {
          "output_type": "execute_result",
          "data": {
            "text/plain": [
              "<Axes: >"
            ]
          },
          "metadata": {},
          "execution_count": 31
        },
        {
          "output_type": "display_data",
          "data": {
            "text/plain": [
              "<Figure size 640x480 with 2 Axes>"
            ],
            "image/png": "[encoded data removed]"
          },
          "metadata": {}
        }
      ]
    },
    {
      "cell_type": "code",
      "source": [
        "# Compile the model for overstatement\n",
        "model.compile(optimizer='adam', loss='binary_crossentropy', metrics=['accuracy'])\n",
        "\n",
        "filePath = '/content/drive/My Drive/440 files/taskBOverstatementModelStoreLSTM.h5'  # Specify the path for the model checkpoint\n",
        "checkpoint = ModelCheckpoint(filePath, monitor='val_accuracy', verbose=1, save_best_only=True, mode='max')\n",
        "csv_logger = CSVLogger('/content/drive/My Drive/440 files/taskBOverstatementTrainingLSTM.log')\n",
        "early_stopping = EarlyStopping(monitor='val_loss', patience=5)\n",
        "callbacks_list = [checkpoint, csv_logger, early_stopping]\n",
        "\n",
        "# Train Machine\n",
        "model.fit(padded_sequences, y_train_overstatement, epochs=500, validation_split=0.1, callbacks=callbacks_list)\n",
        "\n",
        "# Evaluate the model\n",
        "loss, accuracy = model.evaluate(padded_sequences2, y_test_overstatement)"
      ],
      "metadata": {
        "colab": {
          "base_uri": "https://localhost:8080/"
        },
        "id": "sEZR8ay7zmRx",
        "outputId": "d1ffb3cd-d818-4580-b5d3-7f4e0cd1718e"
      },
      "id": "sEZR8ay7zmRx",
      "execution_count": null,
      "outputs": [
        {
          "output_type": "stream",
          "name": "stdout",
          "text": [
            "Epoch 1/500\n",
            "25/25 [==============================] - ETA: 0s - loss: 0.1958 - accuracy: 0.9526\n",
            "Epoch 1: val_accuracy improved from -inf to 0.96552, saving model to /content/drive/My Drive/440 files/taskBOverstatementModelStoreLSTM.h5\n",
            "25/25 [==============================] - 6s 111ms/step - loss: 0.1958 - accuracy: 0.9526 - val_loss: 0.1604 - val_accuracy: 0.9655\n",
            "Epoch 2/500\n",
            "25/25 [==============================] - ETA: 0s - loss: 0.1923 - accuracy: 0.9526\n",
            "Epoch 2: val_accuracy did not improve from 0.96552\n",
            "25/25 [==============================] - 2s 86ms/step - loss: 0.1923 - accuracy: 0.9526 - val_loss: 0.1510 - val_accuracy: 0.9655\n",
            "Epoch 3/500\n",
            "25/25 [==============================] - ETA: 0s - loss: 0.1920 - accuracy: 0.9526\n",
            "Epoch 3: val_accuracy did not improve from 0.96552\n",
            "25/25 [==============================] - 2s 83ms/step - loss: 0.1920 - accuracy: 0.9526 - val_loss: 0.1521 - val_accuracy: 0.9655\n",
            "Epoch 4/500\n",
            "25/25 [==============================] - ETA: 0s - loss: 0.1924 - accuracy: 0.9526\n",
            "Epoch 4: val_accuracy did not improve from 0.96552\n",
            "25/25 [==============================] - 2s 83ms/step - loss: 0.1924 - accuracy: 0.9526 - val_loss: 0.1545 - val_accuracy: 0.9655\n",
            "Epoch 5/500\n",
            "25/25 [==============================] - ETA: 0s - loss: 0.1913 - accuracy: 0.9526\n",
            "Epoch 5: val_accuracy did not improve from 0.96552\n",
            "25/25 [==============================] - 3s 120ms/step - loss: 0.1913 - accuracy: 0.9526 - val_loss: 0.1513 - val_accuracy: 0.9655\n",
            "Epoch 6/500\n",
            "25/25 [==============================] - ETA: 0s - loss: 0.1918 - accuracy: 0.9526\n",
            "Epoch 6: val_accuracy did not improve from 0.96552\n",
            "25/25 [==============================] - 3s 127ms/step - loss: 0.1918 - accuracy: 0.9526 - val_loss: 0.1521 - val_accuracy: 0.9655\n",
            "Epoch 7/500\n",
            "25/25 [==============================] - ETA: 0s - loss: 0.1922 - accuracy: 0.9526\n",
            "Epoch 7: val_accuracy did not improve from 0.96552\n",
            "25/25 [==============================] - 2s 80ms/step - loss: 0.1922 - accuracy: 0.9526 - val_loss: 0.1519 - val_accuracy: 0.9655\n",
            "44/44 [==============================] - 2s 26ms/step - loss: 0.0695 - accuracy: 0.9929\n"
          ]
        }
      ]
    },
    {
      "cell_type": "code",
      "source": [
        "filePath = '/content/drive/My Drive/440 files/taskBOverstatementModelStoreLSTM.h5'\n",
        "model = load_model(filePath)\n",
        "\n",
        "# Get predictions using model.predict\n",
        "prediction = model.predict(padded_sequences2)\n",
        "print(prediction)\n",
        "# Convert probabilities to class labels\n",
        "# Here, threshold is 0.07390644\n",
        "prediction = (prediction > 0.07390644).astype(int)\n",
        "\n",
        "f1_overstatement = f1_score(y_test_overstatement, prediction, average = \"binary\", pos_label = 1)\n",
        "print(round(f1_overstatement, 4))\n",
        "f1_score_overstatement = round(f1_overstatement, 4)\n",
        "\n",
        "cm = confusion_matrix(y_test_overstatement, prediction)\n",
        "sns.heatmap(cm, annot=True, cmap='Pastel1_r', xticklabels=['Overstatement' ,'Not Overstatement'],yticklabels=['Overstatement' ,'Not Overstatement'])"
      ],
      "metadata": {
        "colab": {
          "base_uri": "https://localhost:8080/",
          "height": 604
        },
        "id": "ODRo8IK4znPR",
        "outputId": "b5b55b82-1278-4230-fe37-e79f3a529ead"
      },
      "id": "ODRo8IK4znPR",
      "execution_count": null,
      "outputs": [
        {
          "output_type": "stream",
          "name": "stdout",
          "text": [
            "44/44 [==============================] - 2s 23ms/step\n",
            "[[0.06747469]\n",
            " [0.06747469]\n",
            " [0.06747469]\n",
            " ...\n",
            " [0.06747469]\n",
            " [0.06747469]\n",
            " [0.06747469]]\n",
            "0.0\n"
          ]
        },
        {
          "output_type": "execute_result",
          "data": {
            "text/plain": [
              "<Axes: >"
            ]
          },
          "metadata": {},
          "execution_count": 33
        },
        {
          "output_type": "display_data",
          "data": {
            "text/plain": [
              "<Figure size 640x480 with 2 Axes>"
            ],
            "image/png": "[encoded data removed]"
          },
          "metadata": {}
        }
      ]
    },
    {
      "cell_type": "code",
      "source": [
        "model.compile(optimizer='adam', loss='binary_crossentropy', metrics=['accuracy'])\n",
        "\n",
        "filePath = '/content/drive/My Drive/440 files/taskB_Rhetorical_Question_StoreLSTM.h5'  # Specify the path for the model checkpoint\n",
        "checkpoint = ModelCheckpoint(filePath, monitor='val_accuracy', verbose=1, save_best_only=True, mode='max')\n",
        "csv_logger = CSVLogger('/content/drive/My Drive/440 files/taskB_Rhetorical_Question_TrainingLSTM.log')\n",
        "early_stopping = EarlyStopping(monitor='val_loss', patience=5)\n",
        "callbacks_list = [checkpoint, csv_logger, early_stopping]\n",
        "\n",
        "# Train Machine\n",
        "model.fit(padded_sequences, y_train_question, epochs=500, validation_split=0.1, callbacks=callbacks_list)\n",
        "\n",
        "# Evaluate the model\n",
        "loss, accuracy = model.evaluate(padded_sequences2, y_test_question)"
      ],
      "metadata": {
        "colab": {
          "base_uri": "https://localhost:8080/"
        },
        "id": "AuDUnFXNzrDw",
        "outputId": "b94e7215-ccf3-4da3-cfcc-2fbcc5a6f255"
      },
      "id": "AuDUnFXNzrDw",
      "execution_count": null,
      "outputs": [
        {
          "output_type": "stream",
          "name": "stdout",
          "text": [
            "Epoch 1/500\n",
            "25/25 [==============================] - ETA: 0s - loss: 0.3487 - accuracy: 0.8910\n",
            "Epoch 1: val_accuracy improved from -inf to 0.81609, saving model to /content/drive/My Drive/440 files/taskB_Rhetorical_Question_StoreLSTM.h5\n",
            "25/25 [==============================] - 6s 107ms/step - loss: 0.3487 - accuracy: 0.8910 - val_loss: 0.5161 - val_accuracy: 0.8161\n",
            "Epoch 2/500\n",
            "25/25 [==============================] - ETA: 0s - loss: 0.3473 - accuracy: 0.8910\n",
            "Epoch 2: val_accuracy did not improve from 0.81609\n",
            "25/25 [==============================] - 2s 84ms/step - loss: 0.3473 - accuracy: 0.8910 - val_loss: 0.4940 - val_accuracy: 0.8161\n",
            "Epoch 3/500\n",
            "25/25 [==============================] - ETA: 0s - loss: 0.3504 - accuracy: 0.8910\n",
            "Epoch 3: val_accuracy did not improve from 0.81609\n",
            "25/25 [==============================] - 3s 136ms/step - loss: 0.3504 - accuracy: 0.8910 - val_loss: 0.5238 - val_accuracy: 0.8161\n",
            "Epoch 4/500\n",
            "25/25 [==============================] - ETA: 0s - loss: 0.3458 - accuracy: 0.8910\n",
            "Epoch 4: val_accuracy did not improve from 0.81609\n",
            "25/25 [==============================] - 3s 108ms/step - loss: 0.3458 - accuracy: 0.8910 - val_loss: 0.4979 - val_accuracy: 0.8161\n",
            "Epoch 5/500\n",
            "25/25 [==============================] - ETA: 0s - loss: 0.3452 - accuracy: 0.8910\n",
            "Epoch 5: val_accuracy did not improve from 0.81609\n",
            "25/25 [==============================] - 2s 80ms/step - loss: 0.3452 - accuracy: 0.8910 - val_loss: 0.4998 - val_accuracy: 0.8161\n",
            "Epoch 6/500\n",
            "25/25 [==============================] - ETA: 0s - loss: 0.3450 - accuracy: 0.8910\n",
            "Epoch 6: val_accuracy did not improve from 0.81609\n",
            "25/25 [==============================] - 2s 81ms/step - loss: 0.3450 - accuracy: 0.8910 - val_loss: 0.5043 - val_accuracy: 0.8161\n",
            "Epoch 7/500\n",
            "25/25 [==============================] - ETA: 0s - loss: 0.3462 - accuracy: 0.8910\n",
            "Epoch 7: val_accuracy did not improve from 0.81609\n",
            "25/25 [==============================] - 2s 83ms/step - loss: 0.3462 - accuracy: 0.8910 - val_loss: 0.4998 - val_accuracy: 0.8161\n",
            "44/44 [==============================] - 2s 25ms/step - loss: 0.1347 - accuracy: 0.9921\n"
          ]
        }
      ]
    },
    {
      "cell_type": "code",
      "source": [
        "filePath = '/content/drive/My Drive/440 files/taskB_Rhetorical_Question_StoreLSTM.h5'\n",
        "model = load_model(filePath)\n",
        "\n",
        "# Get predictions using model.predict\n",
        "prediction = model.predict(padded_sequences2)\n",
        "print(prediction)\n",
        "# Convert probabilities to class labels\n",
        "# Here, threshold is 0.0082590\n",
        "prediction = (prediction > 0.0082590).astype(int)\n",
        "\n",
        "f1_rhetorical_question = f1_score(y_test_question, prediction, average = \"binary\", pos_label = 1)\n",
        "print(round(f1_rhetorical_question, 4))\n",
        "f1_score_rhetorical_question = round(f1_rhetorical_question, 4)\n",
        "\n",
        "cm = confusion_matrix(y_test_question, prediction)\n",
        "sns.heatmap(cm, annot=True, cmap='Pastel1_r', xticklabels=['Rhetorical Question' ,'Not Rhetorical Question'],yticklabels=['Rhetorical Question' ,'Not Rhetorical Question'])"
      ],
      "metadata": {
        "colab": {
          "base_uri": "https://localhost:8080/",
          "height": 604
        },
        "id": "m7eiOSk4zr85",
        "outputId": "ac40b041-a057-4283-94b7-90b82a81ce21"
      },
      "id": "m7eiOSk4zr85",
      "execution_count": null,
      "outputs": [
        {
          "output_type": "stream",
          "name": "stdout",
          "text": [
            "44/44 [==============================] - 2s 25ms/step\n",
            "[[0.09333045]\n",
            " [0.09333044]\n",
            " [0.09333045]\n",
            " ...\n",
            " [0.09333045]\n",
            " [0.09333045]\n",
            " [0.09333045]]\n",
            "0.0156\n"
          ]
        },
        {
          "output_type": "execute_result",
          "data": {
            "text/plain": [
              "<Axes: >"
            ]
          },
          "metadata": {},
          "execution_count": 35
        },
        {
          "output_type": "display_data",
          "data": {
            "text/plain": [
              "<Figure size 640x480 with 2 Axes>"
            ],
            "image/png": "[encoded data removed]"
          },
          "metadata": {}
        }
      ]
    },
    {
      "cell_type": "code",
      "source": [
        "print(\"-----F-1 Scores of-----\")\n",
        "print(\"Sarcasm:\", f1_score_sarcasm)\n",
        "print(\"Irony:\", f1_score_irony)\n",
        "print(\"Satire\", f1_score_satire)\n",
        "print(\"Understatement\", f1_score_understatement)\n",
        "print(\"Overstatement\", f1_score_overstatement)\n",
        "print(\"Rhetorical Question\", f1_score_rhetorical_question)"
      ],
      "metadata": {
        "colab": {
          "base_uri": "https://localhost:8080/"
        },
        "id": "86wZIeQN1_Ba",
        "outputId": "50a983a8-303c-48ff-f3a5-ea5c854cfd20"
      },
      "id": "86wZIeQN1_Ba",
      "execution_count": null,
      "outputs": [
        {
          "output_type": "stream",
          "name": "stdout",
          "text": [
            "-----F-1 Scores of-----\n",
            "Sarcasm: 0.0\n",
            "Irony: 0.0\n",
            "Satire 0.0676\n",
            "Understatement 0.0014\n",
            "Overstatement 0.0\n",
            "Rhetorical Question 0.0156\n"
          ]
        }
      ]
    },
    {
      "cell_type": "code",
      "source": [
        "# Plotting graph\n",
        "import matplotlib.pyplot as plt\n",
        "dict1 = {'KNN':knn_accuracy_withoutUndersample*100, 'LR':lr_accuracy_withoutundersample*100, 'NB':nb_accuracy_withoutundersample*100}\n",
        "\n",
        "dict2 ={'KNN':knn_accuracy*100, 'LR':lr_accuracy*100, 'NB':nb_accuracy*100}\n",
        "\n",
        "keys = list(dict1.keys())\n",
        "values_dict1 = list(dict1.values())\n",
        "values_dict2 = list(dict2.values())\n",
        "\n",
        "plt.bar(keys, values_dict1, label='Before Under Sample', color='red')\n",
        "plt.bar(keys, values_dict2, label='After Under Sample', color='purple')\n",
        "\n",
        "plt.xlabel('Models')\n",
        "plt.ylabel('Accuracy')\n",
        "plt.title('Comparison of Three Models (Before & After Under Sampling)')\n",
        "plt.legend()\n",
        "plt.show()"
      ],
      "metadata": {
        "id": "Q4g-tfV9DHtT",
        "colab": {
          "base_uri": "https://localhost:8080/",
          "height": 245
        },
        "outputId": "15de7ec7-6c0f-40b3-ac79-4ecfd7bdd862"
      },
      "id": "Q4g-tfV9DHtT",
      "execution_count": null,
      "outputs": [
        {
          "output_type": "error",
          "ename": "NameError",
          "evalue": "ignored",
          "traceback": [
            "\u001b[0;31m---------------------------------------------------------------------------\u001b[0m",
            "\u001b[0;31mNameError\u001b[0m                                 Traceback (most recent call last)",
            "\u001b[0;32m<ipython-input-37-332382a5a951>\u001b[0m in \u001b[0;36m<cell line: 3>\u001b[0;34m()\u001b[0m\n\u001b[1;32m      1\u001b[0m \u001b[0;31m# Plotting graph\u001b[0m\u001b[0;34m\u001b[0m\u001b[0;34m\u001b[0m\u001b[0m\n\u001b[1;32m      2\u001b[0m \u001b[0;32mimport\u001b[0m \u001b[0mmatplotlib\u001b[0m\u001b[0;34m.\u001b[0m\u001b[0mpyplot\u001b[0m \u001b[0;32mas\u001b[0m \u001b[0mplt\u001b[0m\u001b[0;34m\u001b[0m\u001b[0;34m\u001b[0m\u001b[0m\n\u001b[0;32m----> 3\u001b[0;31m \u001b[0mdict1\u001b[0m \u001b[0;34m=\u001b[0m \u001b[0;34m{\u001b[0m\u001b[0;34m'KNN'\u001b[0m\u001b[0;34m:\u001b[0m\u001b[0mknn_accuracy_withoutUndersample\u001b[0m\u001b[0;34m*\u001b[0m\u001b[0;36m100\u001b[0m\u001b[0;34m,\u001b[0m \u001b[0;34m'LR'\u001b[0m\u001b[0;34m:\u001b[0m\u001b[0mlr_accuracy_withoutundersample\u001b[0m\u001b[0;34m*\u001b[0m\u001b[0;36m100\u001b[0m\u001b[0;34m,\u001b[0m \u001b[0;34m'NB'\u001b[0m\u001b[0;34m:\u001b[0m\u001b[0mnb_accuracy_withoutundersample\u001b[0m\u001b[0;34m*\u001b[0m\u001b[0;36m100\u001b[0m\u001b[0;34m}\u001b[0m\u001b[0;34m\u001b[0m\u001b[0;34m\u001b[0m\u001b[0m\n\u001b[0m\u001b[1;32m      4\u001b[0m \u001b[0;34m\u001b[0m\u001b[0m\n\u001b[1;32m      5\u001b[0m \u001b[0mdict2\u001b[0m \u001b[0;34m=\u001b[0m\u001b[0;34m{\u001b[0m\u001b[0;34m'KNN'\u001b[0m\u001b[0;34m:\u001b[0m\u001b[0mknn_accuracy\u001b[0m\u001b[0;34m*\u001b[0m\u001b[0;36m100\u001b[0m\u001b[0;34m,\u001b[0m \u001b[0;34m'LR'\u001b[0m\u001b[0;34m:\u001b[0m\u001b[0mlr_accuracy\u001b[0m\u001b[0;34m*\u001b[0m\u001b[0;36m100\u001b[0m\u001b[0;34m,\u001b[0m \u001b[0;34m'NB'\u001b[0m\u001b[0;34m:\u001b[0m\u001b[0mnb_accuracy\u001b[0m\u001b[0;34m*\u001b[0m\u001b[0;36m100\u001b[0m\u001b[0;34m}\u001b[0m\u001b[0;34m\u001b[0m\u001b[0;34m\u001b[0m\u001b[0m\n",
            "\u001b[0;31mNameError\u001b[0m: name 'knn_accuracy_withoutUndersample' is not defined"
          ]
        }
      ]
    },
    {
      "cell_type": "code",
      "source": [
        "from sklearn.metrics import confusion_matrix, accuracy_score, precision_score, recall_score, f1_score, fbeta_score\n",
        "from sklearn.metrics import classification_report\n",
        "from sklearn.metrics import precision_recall_fscore_support\n",
        "\n",
        "y_pred = gnb.predict(X_test)\n",
        "report = classification_report(y_test, y_pred)\n",
        "precision, recall, f1, support = precision_recall_fscore_support(y_test, y_pred, pos_label=1)\n",
        "gnb_old_Precision = precision[1]\n",
        "gnb_old_Recall = recall[1]\n",
        "print('Precision:', gnb_old_Precision)\n",
        "print('Recall:', gnb_old_Recall)"
      ],
      "metadata": {
        "id": "dro_cCyrDsEr",
        "colab": {
          "base_uri": "https://localhost:8080/",
          "height": 245
        },
        "outputId": "9beffc6d-76a2-4915-d146-971c947a3e90"
      },
      "id": "dro_cCyrDsEr",
      "execution_count": null,
      "outputs": [
        {
          "output_type": "error",
          "ename": "NameError",
          "evalue": "ignored",
          "traceback": [
            "\u001b[0;31m---------------------------------------------------------------------------\u001b[0m",
            "\u001b[0;31mNameError\u001b[0m                                 Traceback (most recent call last)",
            "\u001b[0;32m<ipython-input-38-18edd0fd81a4>\u001b[0m in \u001b[0;36m<cell line: 5>\u001b[0;34m()\u001b[0m\n\u001b[1;32m      3\u001b[0m \u001b[0;32mfrom\u001b[0m \u001b[0msklearn\u001b[0m\u001b[0;34m.\u001b[0m\u001b[0mmetrics\u001b[0m \u001b[0;32mimport\u001b[0m \u001b[0mprecision_recall_fscore_support\u001b[0m\u001b[0;34m\u001b[0m\u001b[0;34m\u001b[0m\u001b[0m\n\u001b[1;32m      4\u001b[0m \u001b[0;34m\u001b[0m\u001b[0m\n\u001b[0;32m----> 5\u001b[0;31m \u001b[0my_pred\u001b[0m \u001b[0;34m=\u001b[0m \u001b[0mgnb\u001b[0m\u001b[0;34m.\u001b[0m\u001b[0mpredict\u001b[0m\u001b[0;34m(\u001b[0m\u001b[0mX_test\u001b[0m\u001b[0;34m)\u001b[0m\u001b[0;34m\u001b[0m\u001b[0;34m\u001b[0m\u001b[0m\n\u001b[0m\u001b[1;32m      6\u001b[0m \u001b[0mreport\u001b[0m \u001b[0;34m=\u001b[0m \u001b[0mclassification_report\u001b[0m\u001b[0;34m(\u001b[0m\u001b[0my_test\u001b[0m\u001b[0;34m,\u001b[0m \u001b[0my_pred\u001b[0m\u001b[0;34m)\u001b[0m\u001b[0;34m\u001b[0m\u001b[0;34m\u001b[0m\u001b[0m\n\u001b[1;32m      7\u001b[0m \u001b[0mprecision\u001b[0m\u001b[0;34m,\u001b[0m \u001b[0mrecall\u001b[0m\u001b[0;34m,\u001b[0m \u001b[0mf1\u001b[0m\u001b[0;34m,\u001b[0m \u001b[0msupport\u001b[0m \u001b[0;34m=\u001b[0m \u001b[0mprecision_recall_fscore_support\u001b[0m\u001b[0;34m(\u001b[0m\u001b[0my_test\u001b[0m\u001b[0;34m,\u001b[0m \u001b[0my_pred\u001b[0m\u001b[0;34m,\u001b[0m \u001b[0mpos_label\u001b[0m\u001b[0;34m=\u001b[0m\u001b[0;36m1\u001b[0m\u001b[0;34m)\u001b[0m\u001b[0;34m\u001b[0m\u001b[0;34m\u001b[0m\u001b[0m\n",
            "\u001b[0;31mNameError\u001b[0m: name 'gnb' is not defined"
          ]
        }
      ]
    }
  ],
  "metadata": {
    "colab": {
      "provenance": []
    },
    "kernelspec": {
      "display_name": "Python 3 (ipykernel)",
      "language": "python",
      "name": "python3"
    },
    "language_info": {
      "codemirror_mode": {
        "name": "ipython",
        "version": 3
      },
      "file_extension": ".py",
      "mimetype": "text/x-python",
      "name": "python",
      "nbconvert_exporter": "python",
      "pygments_lexer": "ipython3",
      "version": "3.10.9"
    }
  },
  "nbformat": 4,
  "nbformat_minor": 5
}